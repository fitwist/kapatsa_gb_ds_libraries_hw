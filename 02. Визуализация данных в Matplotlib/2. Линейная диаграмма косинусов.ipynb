{
 "cells": [
  {
   "cell_type": "code",
   "execution_count": 3,
   "id": "116e47f8-8ee4-4ce9-af0f-a18eb062c562",
   "metadata": {},
   "outputs": [],
   "source": [
    "import matplotlib.pyplot as plt\n",
    "import numpy as np"
   ]
  },
  {
   "cell_type": "code",
   "execution_count": 7,
   "id": "230a133d-d328-40d9-beb8-c07640ef56b1",
   "metadata": {},
   "outputs": [
    {
     "data": {
      "text/plain": [
       "array([ 1.  ,  1.18,  1.36,  1.54,  1.72,  1.9 ,  2.08,  2.26,  2.44,\n",
       "        2.62,  2.8 ,  2.98,  3.16,  3.34,  3.52,  3.7 ,  3.88,  4.06,\n",
       "        4.24,  4.42,  4.6 ,  4.78,  4.96,  5.14,  5.32,  5.5 ,  5.68,\n",
       "        5.86,  6.04,  6.22,  6.4 ,  6.58,  6.76,  6.94,  7.12,  7.3 ,\n",
       "        7.48,  7.66,  7.84,  8.02,  8.2 ,  8.38,  8.56,  8.74,  8.92,\n",
       "        9.1 ,  9.28,  9.46,  9.64,  9.82, 10.  ])"
      ]
     },
     "execution_count": 7,
     "metadata": {},
     "output_type": "execute_result"
    }
   ],
   "source": [
    "# С помощью функции linspace из библиотеки Numpy создайте массив t из 51 числа от 0 до 10 \n",
    "# включительно.\n",
    "t = np.linspace(1, 10, num=51)\n",
    "t"
   ]
  },
  {
   "cell_type": "code",
   "execution_count": 8,
   "id": "766874b0-e620-4dc3-9661-160c32bc49eb",
   "metadata": {},
   "outputs": [
    {
     "data": {
      "text/plain": [
       "array([ 0.54030231,  0.38092482,  0.20923867,  0.03079146, -0.1486507 ,\n",
       "       -0.32328957, -0.4874821 , -0.63592282, -0.7638152 , -0.86702672,\n",
       "       -0.94222234, -0.98697229, -0.99983059, -0.98038175, -0.92925421,\n",
       "       -0.84810003, -0.73954153, -0.60708651, -0.45501493, -0.28824063,\n",
       "       -0.11215253,  0.06755952,  0.24508854,  0.41469811,  0.5709077 ,\n",
       "        0.70866977,  0.82353287,  0.91178547,  0.97057589,  0.99800447,\n",
       "        0.99318492,  0.95627296,  0.88846133,  0.79194119,  0.66983135,\n",
       "        0.52607752,  0.36532474,  0.19276737,  0.01398118, -0.16525678,\n",
       "       -0.33915486, -0.50209396, -0.64880909, -0.77455951, -0.87528188,\n",
       "       -0.9477216 , -0.98953796, -0.99937977, -0.976929  , -0.9229111 ,\n",
       "       -0.83907153])"
      ]
     },
     "execution_count": 8,
     "metadata": {},
     "output_type": "execute_result"
    }
   ],
   "source": [
    "# Создайте массив Numpy под названием f, содержащий косинусы элементов массива t.\n",
    "f = np.cos(t)\n",
    "f"
   ]
  },
  {
   "cell_type": "code",
   "execution_count": 14,
   "id": "337e4e4a-1bdc-4dcd-99ba-257afbd3a22c",
   "metadata": {},
   "outputs": [
    {
     "data": {
      "image/png": "[encoded data removed]",
      "text/plain": [
       "<Figure size 432x288 with 1 Axes>"
      ]
     },
     "metadata": {
      "needs_background": "light"
     },
     "output_type": "display_data"
    }
   ],
   "source": [
    "# Постройте линейную диаграмму, используя массив t для координат по горизонтали, а массив \n",
    "# f - для координат по вертикали. Линия графика должна быть зеленого цвета. \n",
    "# Выведите название диаграммы - 'График f(t)'. Также добавьте названия для горизонтальной \n",
    "# оси - 'Значения t' и для вертикальной - 'Значения f'.\n",
    "# Ограничьте график по оси x значениями 0.5 и 9.5, а по оси y - значениями -2.5 и 2.5.\n",
    "plt.plot(t, f, color =\"green\")\n",
    "plt.title(\"График f(t)\")\n",
    "plt.xlabel(\"Значения t\")\n",
    "plt.ylabel(\"Значения f\")\n",
    "\n",
    "plt.xlim([0.5, 9.5])\n",
    "plt.ylim([-2.5, 2.5])\n",
    "plt.show()"
   ]
  }
 ],
 "metadata": {
  "kernelspec": {
   "display_name": "Python 3 (ipykernel)",
   "language": "python",
   "name": "python3"
  },
  "language_info": {
   "codemirror_mode": {
    "name": "ipython",
    "version": 3
   },
   "file_extension": ".py",
   "mimetype": "text/x-python",
   "name": "python",
   "nbconvert_exporter": "python",
   "pygments_lexer": "ipython3",
   "version": "3.9.12"
  }
 },
 "nbformat": 4,
 "nbformat_minor": 5
}
