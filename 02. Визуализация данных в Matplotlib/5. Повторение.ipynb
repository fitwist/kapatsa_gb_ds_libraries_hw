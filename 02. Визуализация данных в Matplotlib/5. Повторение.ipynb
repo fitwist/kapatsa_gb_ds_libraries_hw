{
 "cells": [
  {
   "cell_type": "code",
   "execution_count": 78,
   "id": "1697f650-ca13-45bc-8f25-8ae06a249aa5",
   "metadata": {},
   "outputs": [],
   "source": [
    "import numpy as np\n",
    "from numpy.linalg import inv, matrix_rank"
   ]
  },
  {
   "cell_type": "code",
   "execution_count": 6,
   "id": "3e6421dc-8cce-4b1c-b011-124fde59d5de",
   "metadata": {},
   "outputs": [
    {
     "data": {
      "text/plain": [
       "array([12, 13, 14, 15, 16, 17, 18, 19, 20, 21, 22, 23])"
      ]
     },
     "execution_count": 6,
     "metadata": {},
     "output_type": "execute_result"
    }
   ],
   "source": [
    "# 1. Создать одномерный массив Numpy под названием a из 12 последовательных целых чисел чисел от 12 до 24 \n",
    "# невключительно\n",
    "a = np.arange(12, 24)\n",
    "a"
   ]
  },
  {
   "cell_type": "code",
   "execution_count": 18,
   "id": "7b4fe886-4670-4922-987a-47619340656b",
   "metadata": {},
   "outputs": [
    {
     "name": "stdout",
     "output_type": "stream",
     "text": [
      "[[12 13 14 15 16 17]\n",
      " [18 19 20 21 22 23]]\n",
      "[[12 13 14 15]\n",
      " [16 17 18 19]\n",
      " [20 21 22 23]]\n",
      "[[12 13 14]\n",
      " [15 16 17]\n",
      " [18 19 20]\n",
      " [21 22 23]]\n",
      "[[12 13]\n",
      " [14 15]\n",
      " [16 17]\n",
      " [18 19]\n",
      " [20 21]\n",
      " [22 23]]\n",
      "[[[12 13]\n",
      "  [14 15]\n",
      "  [16 17]]\n",
      "\n",
      " [[18 19]\n",
      "  [20 21]\n",
      "  [22 23]]]\n"
     ]
    }
   ],
   "source": [
    "# 2. Создать 5 двумерных массивов разной формы из массива a. Не использовать в аргументах метода reshape \n",
    "# число -1.\n",
    "b = a.reshape((2, 6))\n",
    "print(b)\n",
    "\n",
    "c = a.reshape((3, 4))\n",
    "print(c)\n",
    "\n",
    "d = a.reshape((4, 3))\n",
    "print(d)\n",
    "\n",
    "e = a.reshape((6, 2))\n",
    "print(e)\n",
    "\n",
    "f = a.reshape((2, 3, 2))\n",
    "print(f)"
   ]
  },
  {
   "cell_type": "code",
   "execution_count": 16,
   "id": "3ed8d559-0620-4b2a-bb64-34512002ef64",
   "metadata": {},
   "outputs": [
    {
     "name": "stdout",
     "output_type": "stream",
     "text": [
      "[[12 13 14 15 16 17]\n",
      " [18 19 20 21 22 23]]\n",
      "[[12 13 14 15]\n",
      " [16 17 18 19]\n",
      " [20 21 22 23]]\n",
      "[[12 13 14]\n",
      " [15 16 17]\n",
      " [18 19 20]\n",
      " [21 22 23]]\n",
      "[[12 13]\n",
      " [14 15]\n",
      " [16 17]\n",
      " [18 19]\n",
      " [20 21]\n",
      " [22 23]]\n",
      "[[12]\n",
      " [13]\n",
      " [14]\n",
      " [15]\n",
      " [16]\n",
      " [17]\n",
      " [18]\n",
      " [19]\n",
      " [20]\n",
      " [21]\n",
      " [22]\n",
      " [23]]\n"
     ]
    }
   ],
   "source": [
    "# 3. Создать 5 двумерных массивов разной формы из массива a. Использовать в аргументах метода reshape \n",
    "# число -1 (в трех примерах - для обозначения числа столбцов, в двух - для строк).\n",
    "b = a.reshape((-1, 6))\n",
    "print(b)\n",
    "\n",
    "c = a.reshape((-1, 4))\n",
    "print(c)\n",
    "\n",
    "d = a.reshape((-1, 3))\n",
    "print(d)\n",
    "\n",
    "e = a.reshape((6, -1))\n",
    "print(e)\n",
    "\n",
    "f = a.reshape((12, -1))\n",
    "print(f)"
   ]
  },
  {
   "cell_type": "code",
   "execution_count": 21,
   "id": "39f5d28e-2b7a-4f06-8326-9172eba9c8fa",
   "metadata": {},
   "outputs": [
    {
     "data": {
      "text/plain": [
       "[12]"
      ]
     },
     "execution_count": 21,
     "metadata": {},
     "output_type": "execute_result"
    }
   ],
   "source": [
    "# 4. Можно ли массив Numpy, состоящий из одного столбца и 12 строк, назвать одномерным?\n",
    "a = [[12],\n",
    " [13],\n",
    " [14],\n",
    " [15],\n",
    " [16],\n",
    " [17],\n",
    " [18],\n",
    " [19],\n",
    " [20],\n",
    " [21],\n",
    " [22],\n",
    " [23]]\n",
    "\n",
    "# Ответ: да, поскольку обращение к n-ному элементу массива будет иметь одно измерение – в данном \n",
    "# случае, 0.\n",
    "a[0]"
   ]
  },
  {
   "cell_type": "code",
   "execution_count": 26,
   "id": "94f370fe-807d-4e1a-8db8-008f026c34a6",
   "metadata": {},
   "outputs": [
    {
     "name": "stdout",
     "output_type": "stream",
     "text": [
      "12\n",
      "12\n"
     ]
    }
   ],
   "source": [
    "# 5. Создать массив из 3 строк и 4 столбцов, состоящий из случайных чисел с плавающей запятой из \n",
    "# нормального распределения со средним, равным 0 и среднеквадратичным отклонением, равным 1.0. Получить \n",
    "# из этого массива одномерный массив с таким же атрибутом size, как и исходный массив.\n",
    "mu, S = 0, 1.0 # Среднее (mu) и среднеквадратичное отклонение (S)\n",
    "s = np.random.normal(mu, S, (3, 4))\n",
    "print(s.size)\n",
    "t = s.flatten()\n",
    "print(t.size)"
   ]
  },
  {
   "cell_type": "code",
   "execution_count": 41,
   "id": "f93c1ae6-e9cf-4ead-95b9-acf6e219f93d",
   "metadata": {},
   "outputs": [
    {
     "data": {
      "text/plain": [
       "array([18, 16, 14, 12, 10,  8,  6,  4,  2,  0])"
      ]
     },
     "execution_count": 41,
     "metadata": {},
     "output_type": "execute_result"
    }
   ],
   "source": [
    "# 6. Создать массив a, состоящий из целых чисел, убывающих от 20 до 0 невключительно с интервалом 2.\n",
    "a = np.flip(np.arange(0, 20, 2))\n",
    "a"
   ]
  },
  {
   "cell_type": "code",
   "execution_count": 42,
   "id": "8c89d444-9fb1-4396-a629-b7e7cc21b5e1",
   "metadata": {},
   "outputs": [
    {
     "data": {
      "text/plain": [
       "array([[18, 16, 14, 12, 10,  8,  6,  4,  2,  0]])"
      ]
     },
     "execution_count": 42,
     "metadata": {},
     "output_type": "execute_result"
    }
   ],
   "source": [
    "# 7. Создать массив b, состоящий из 1 строки и 10 столбцов: целых чисел, убывающих от 20 до 1 невключительно \n",
    "# с интервалом 2. \n",
    "b = np.flip(np.arange(0, 20, 2)).reshape((1,10))\n",
    "b"
   ]
  },
  {
   "cell_type": "markdown",
   "id": "a8e5cd6d-0e02-4ca7-861f-9a6cffedad63",
   "metadata": {},
   "source": [
    "В чем разница между массивами a и b?\n",
    "a – одномерный, b – двумерный"
   ]
  },
  {
   "cell_type": "code",
   "execution_count": 57,
   "id": "0060a3e1-4888-4318-8176-d6980a57466b",
   "metadata": {},
   "outputs": [
    {
     "name": "stdout",
     "output_type": "stream",
     "text": [
      "[[0. 0.]\n",
      " [0. 0.]\n",
      " [1. 1.]\n",
      " [1. 1.]\n",
      " [1. 1.]]\n",
      "10\n"
     ]
    }
   ],
   "source": [
    "# 8. Вертикально соединить массивы a и b. a - двумерный массив из нулей, число строк которого больше 1 и \n",
    "# на 1 меньше, чем число строк двумерного массива b, состоящего из единиц. Итоговый массив v должен иметь \n",
    "# атрибут size, равный 10.\n",
    "\n",
    "s = (2,2)\n",
    "a = np.zeros(s)\n",
    "\n",
    "t = (3,2)\n",
    "b = np.ones(t)\n",
    "\n",
    "v = np.concatenate((a, b), axis=0)\n",
    "print(v)\n",
    "print(v.size)"
   ]
  },
  {
   "cell_type": "code",
   "execution_count": 66,
   "id": "f500a751-4b05-4726-8a88-1b8e7a8546c1",
   "metadata": {},
   "outputs": [
    {
     "name": "stdout",
     "output_type": "stream",
     "text": [
      "[[ 0  1  2]\n",
      " [ 3  4  5]\n",
      " [ 6  7  8]\n",
      " [ 9 10 11]]\n",
      "[[ 0  3  6  9]\n",
      " [ 1  4  7 10]\n",
      " [ 2  5  8 11]]\n",
      "[[  5  14  23  32]\n",
      " [ 14  50  86 122]\n",
      " [ 23  86 149 212]\n",
      " [ 32 122 212 302]]\n",
      "16\n"
     ]
    }
   ],
   "source": [
    "# 9. Создать одномерный массив а, состоящий из последовательности целых чисел от 0 до 12. Поменять форму \n",
    "# этого массива, чтобы получилась матрица A (двумерный массив Numpy), состоящая из 4 строк и 3 столбцов. \n",
    "# Получить матрицу At путем транспонирования матрицы A. Получить матрицу B, умножив матрицу A на \n",
    "# матрицу At с помощью матричного умножения. Какой размер имеет матрица B? Получится ли вычислить \n",
    "# обратную матрицу для матрицы B и почему?\n",
    "a = np.arange(0, 12)\n",
    "A = np.matrix(a.reshape(4, 3))\n",
    "print(A)\n",
    "\n",
    "At = A.transpose()\n",
    "print(At)\n",
    "\n",
    "B = np.matmul(A,At)\n",
    "print(B)\n",
    "print(B.size)"
   ]
  },
  {
   "cell_type": "code",
   "execution_count": null,
   "id": "5c68436a-e0c3-4c60-8603-e6541dde2b3a",
   "metadata": {},
   "outputs": [],
   "source": [
    "B_inv = inv(B)\n",
    "print(B_inv)"
   ]
  },
  {
   "attachments": {
    "df3de17a-3853-475f-adf1-e590268021e1.png": {
     "image/png": "[encoded data removed]"
    }
   },
   "cell_type": "markdown",
   "id": "4e0f1542-9dbb-4a13-a240-fb027d178c1d",
   "metadata": {},
   "source": [
    "Код выше вызовет ошибку 'Singular matrix', что означает \"вырожденная матрица\", ее определитель равне нулю. Обратная матрица может быть найдена только для той матрицы, чей определитель не равен нулю. \n",
    "\n",
    "Определитель матрицы 4 х 4 высчитывается по следующей формуле:\n",
    "![image.png](attachment:df3de17a-3853-475f-adf1-e590268021e1.png)\n",
    "\n",
    "Выполнив подстановку, мы получим 0."
   ]
  },
  {
   "cell_type": "code",
   "execution_count": 70,
   "id": "f67f3303-04f1-4e6f-8df5-773bae4e331d",
   "metadata": {},
   "outputs": [
    {
     "data": {
      "text/plain": [
       "array([0.37454012, 0.95071431, 0.73199394])"
      ]
     },
     "execution_count": 70,
     "metadata": {},
     "output_type": "execute_result"
    }
   ],
   "source": [
    "# 10. Инициализируйте генератор случайных числе с помощью объекта seed, равного 42.\n",
    "np.random.seed(42)\n",
    "np.random.rand(3)"
   ]
  },
  {
   "cell_type": "code",
   "execution_count": 73,
   "id": "f9b55be9-ad8a-41fa-9f5e-558ee44574b7",
   "metadata": {},
   "outputs": [
    {
     "data": {
      "text/plain": [
       "array([11.71559818, 12.90497837, 10.54053387, 11.07642503, 13.58713043,\n",
       "        3.99468814,  7.83079942,  3.53935107, 15.80268813, 15.10494943,\n",
       "        0.63082898, 11.28920276, 14.80397308,  2.88920552,  9.08712369,\n",
       "       14.64781276])"
      ]
     },
     "execution_count": 73,
     "metadata": {},
     "output_type": "execute_result"
    }
   ],
   "source": [
    "# 11. Создайте одномерный массив c, составленный из последовательности 16-ти случайных равномерно \n",
    "# распределенных целых чисел от 0 до 16 невключительно.\n",
    "c = np.random.uniform(0,16,16)\n",
    "c"
   ]
  },
  {
   "cell_type": "code",
   "execution_count": 81,
   "id": "6bb3f2d5-2dbb-44d0-be99-43e902a061c8",
   "metadata": {},
   "outputs": [
    {
     "name": "stdout",
     "output_type": "stream",
     "text": [
      "[[11.71559818 12.90497837 10.54053387 11.07642503]\n",
      " [13.58713043  3.99468814  7.83079942  3.53935107]\n",
      " [15.80268813 15.10494943  0.63082898 11.28920276]\n",
      " [14.80397308  2.88920552  9.08712369 14.64781276]]\n",
      "[[122.15598183 143.04978366 128.40533867 142.76425032]\n",
      " [149.87130425  89.94688142 164.30799418 157.39351069]\n",
      " [181.02688128 237.04949435 155.30828982 324.8920276 ]\n",
      " [180.03973079 150.89205522 302.87123689 448.47812761]]\n",
      "Определитель:  209430010.88251805\n",
      "Ранг:  1\n",
      "Обратная матрица:\n",
      " [[-2.09473309e-02  2.17939155e-02  9.27013168e-03 -7.69598905e-03]\n",
      " [ 1.81856100e-02 -1.23675639e-02 -2.11711091e-03  8.50694514e-05]\n",
      " [ 1.97040925e-02 -7.44187438e-03 -1.25015203e-02  5.39581949e-03]\n",
      " [-1.10161785e-02  4.37760816e-04  5.43351831e-03  1.64670008e-03]]\n"
     ]
    }
   ],
   "source": [
    "# 12. Поменяйте его форму так, чтобы получилась квадратная матрица C. Получите матрицу D, поэлементно \n",
    "# прибавив матрицу B из предыдущего вопроса к матрице C, умноженной на 10. Вычислите определитель, \n",
    "# ранг и обратную матрицу D_inv для D.\n",
    "C = np.matrix(c.reshape(4, 4))\n",
    "print(C)\n",
    "\n",
    "D = B + C * 10\n",
    "print(D)\n",
    "\n",
    "print('Определитель: ', np.linalg.det(D))\n",
    "print('Ранг: ', matrix_rank(a))\n",
    "\n",
    "D_inv = inv(D)\n",
    "print('Обратная матрица:\\n', D_inv)"
   ]
  },
  {
   "cell_type": "code",
   "execution_count": 88,
   "id": "09622033-ed19-4861-bfad-89e21123545b",
   "metadata": {},
   "outputs": [
    {
     "name": "stdout",
     "output_type": "stream",
     "text": [
      "[[0. 1. 1. 0.]\n",
      " [1. 0. 0. 1.]\n",
      " [1. 0. 0. 1.]\n",
      " [0. 1. 1. 1.]]\n",
      "[[ 11.71559818  14.          23.          11.07642503]\n",
      " [ 14.           3.99468814   7.83079942 122.        ]\n",
      " [ 23.          15.10494943   0.63082898 212.        ]\n",
      " [ 14.80397308 122.         212.         302.        ]]\n"
     ]
    }
   ],
   "source": [
    "# 13. Приравняйте к нулю отрицательные числа в матрице D_inv, а положительные - к единице. Убедитесь, \n",
    "# что в матрице D_inv остались только нули и единицы. С помощью функции numpy.where, используя матрицу \n",
    "# D_inv в качестве маски, а матрицы B и C - в качестве источников данных, получите матрицу E размером \n",
    "# 4x4. Элементы матрицы E, для которых соответствующий элемент матрицы D_inv равен 1, должны быть \n",
    "# равны соответствующему элементу матрицы B, а элементы матрицы E, для которых соответствующий элемент \n",
    "# матрицы D_inv равен 0, должны быть равны соответствующему элементу матрицы C.\n",
    "D_inv[D_inv < 0] = 0\n",
    "D_inv[D_inv > 0] = 1\n",
    "\n",
    "print(D_inv)\n",
    "\n",
    "E = np.where(D_inv == 1, B, C)\n",
    "print(E)"
   ]
  }
 ],
 "metadata": {
  "kernelspec": {
   "display_name": "Python 3 (ipykernel)",
   "language": "python",
   "name": "python3"
  },
  "language_info": {
   "codemirror_mode": {
    "name": "ipython",
    "version": 3
   },
   "file_extension": ".py",
   "mimetype": "text/x-python",
   "name": "python",
   "nbconvert_exporter": "python",
   "pygments_lexer": "ipython3",
   "version": "3.9.12"
  }
 },
 "nbformat": 4,
 "nbformat_minor": 5
}
