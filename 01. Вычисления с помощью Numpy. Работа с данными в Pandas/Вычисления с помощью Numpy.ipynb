{
 "cells": [
  {
   "cell_type": "code",
   "execution_count": 37,
   "id": "4a7d4a54",
   "metadata": {},
   "outputs": [],
   "source": [
    "# Задание 1\n",
    "# Импортируйте библиотеку Numpy и дайте ей псевдоним np.\n",
    "# Создайте массив Numpy под названием a размером 5x2, то есть состоящий из 5 строк и 2 \n",
    "# столбцов. Первый столбец должен содержать числа 1, 2, 3, 3, 1, а второй - числа 6, 8, \n",
    "# 11, 10, 7. Будем считать, что каждый столбец - это признак, а строка - наблюдение. \n",
    "# Затем найдите среднее значение по каждому признаку, используя метод mean массива Numpy. \n",
    "# Результат запишите в массив mean_a, в нем должно быть 2 элемента.\n",
    "\n",
    "import numpy as np"
   ]
  },
  {
   "cell_type": "code",
   "execution_count": 38,
   "id": "a96a6fb5",
   "metadata": {},
   "outputs": [
    {
     "data": {
      "text/plain": [
       "[2.0, 8.4]"
      ]
     },
     "execution_count": 38,
     "metadata": {},
     "output_type": "execute_result"
    }
   ],
   "source": [
    "a = np.array([[1, 2, 3, 3, 1], [6, 8, 11, 10, 7]], np.int32)\n",
    "mean_a = []\n",
    "i = 0\n",
    "\n",
    "while i <= 1:\n",
    "    mean_a.append(a[i].mean())\n",
    "    i += 1\n",
    "    \n",
    "mean_a"
   ]
  },
  {
   "cell_type": "code",
   "execution_count": 17,
   "id": "0a56054e",
   "metadata": {},
   "outputs": [
    {
     "data": {
      "text/plain": [
       "[array([-1.,  0.,  1.,  1., -1.]), array([-2.4, -0.4,  2.6,  1.6, -1.4])]"
      ]
     },
     "execution_count": 17,
     "metadata": {},
     "output_type": "execute_result"
    }
   ],
   "source": [
    "# Задание 2\n",
    "# Вычислите массив a_centered, отняв от значений массива “а” средние значения соответствующих \n",
    "# признаков, содержащиеся в массиве mean_a. Вычисление должно производиться в одно действие. \n",
    "# Получившийся массив должен иметь размер 5x2.\n",
    "a_centered = []\n",
    "\n",
    "i = 0\n",
    "\n",
    "while i <= 1:\n",
    "    a_centered.append(a[i] - mean_a[i])\n",
    "    i += 1\n",
    "    \n",
    "a_centered"
   ]
  },
  {
   "cell_type": "code",
   "execution_count": 23,
   "id": "c74de86d",
   "metadata": {},
   "outputs": [
    {
     "data": {
      "text/plain": [
       "2.0"
      ]
     },
     "execution_count": 23,
     "metadata": {},
     "output_type": "execute_result"
    }
   ],
   "source": [
    "# Задание 3\n",
    "# Найдите скалярное произведение столбцов массива a_centered. В результате должна получиться \n",
    "# величина a_centered_sp. Затем поделите a_centered_sp на N-1, где N - число наблюдений.\n",
    "\n",
    "a_centered_sp = np.dot(a_centered[0], a_centered[1])\n",
    "length = len(a[1]) - 1\n",
    "a_centered_sp / length"
   ]
  },
  {
   "cell_type": "code",
   "execution_count": 40,
   "id": "d65d9aa6",
   "metadata": {},
   "outputs": [
    {
     "data": {
      "text/plain": [
       "array([[1. , 2. ],\n",
       "       [2. , 4.3]])"
      ]
     },
     "execution_count": 40,
     "metadata": {},
     "output_type": "execute_result"
    }
   ],
   "source": [
    "# Задание 4**\n",
    "# В этом задании проверьте получившееся число, вычислив ковариацию еще одним способом - с \n",
    "# помощью функции np.cov. В качестве аргумента m функция np.cov должна принимать \n",
    "# транспонированный массив “a”. В получившейся ковариационной матрице (массив Numpy \n",
    "# размером 2x2) искомое значение ковариации будет равно элементу в строке с индексом 0 и столбце с индексом 1.\n",
    "covariance_matrix = np.cov(a.transpose().T)\n",
    "covariance_matrix"
   ]
  }
 ],
 "metadata": {
  "kernelspec": {
   "display_name": "Python 3 (ipykernel)",
   "language": "python",
   "name": "python3"
  },
  "language_info": {
   "codemirror_mode": {
    "name": "ipython",
    "version": 3
   },
   "file_extension": ".py",
   "mimetype": "text/x-python",
   "name": "python",
   "nbconvert_exporter": "python",
   "pygments_lexer": "ipython3",
   "version": "3.9.12"
  }
 },
 "nbformat": 4,
 "nbformat_minor": 5
}
